{
 "cells": [
  {
   "cell_type": "markdown",
   "metadata": {},
   "source": [
    "*Methodologies*:\n",
    "\n",
    "1. detect corners, threshold it, then join the corners, then find the area (not working properly)\n",
    "\n",
    "2. use edge detection, clean it, then find the area"
   ]
  },
  {
   "cell_type": "code",
   "execution_count": 20,
   "metadata": {},
   "outputs": [],
   "source": [
    "import cv2 as cv\n",
    "import numpy as np\n",
    "import matplotlib.pyplot as plt"
   ]
  },
  {
   "cell_type": "markdown",
   "metadata": {},
   "source": [
    "-------------*using corner detection*-------------"
   ]
  },
  {
   "cell_type": "code",
   "execution_count": 15,
   "metadata": {},
   "outputs": [],
   "source": [
    "# Input image. It should be grayscale and float32 type.\n",
    "img=cv.imread(\"./cardboard.jpg\")\n",
    "gray = cv.cvtColor(img,cv.COLOR_BGR2GRAY)\n",
    "gray = np.float32(gray)"
   ]
  },
  {
   "cell_type": "code",
   "execution_count": 16,
   "metadata": {},
   "outputs": [],
   "source": [
    "corners = cv.cornerHarris(gray,2,3,0.04)\n",
    "corner_img=img.copy()\n",
    "\n",
    "\n",
    "# Corner coordinates\n",
    "corner_coords = np.argwhere(corners > 0.01*corners.max())\n",
    "# print(len(corner_coords[0]))\n",
    "\n",
    "corner_img[corners > 0.05*corners.max()]=[0,0,255]\n",
    "\n",
    "font=cv.FONT_HERSHEY_SIMPLEX\n",
    "font_scale = 1\n",
    "font_color = (0, 255, 0)  # Green color in BGR\n",
    "font_thickness = 2\n",
    "\n",
    "# for i in range(len(corner_coords)):\n",
    "# cv.putText(corner_img, f\"{corner_coords[99]}\", corner_coords[99], font, font_scale, font_color, font_thickness)\n",
    "\n",
    "\n",
    "\n",
    "cv.imshow('corners_connected',corner_img)\n",
    "if cv.waitKey(0) & 0xff == 27:\n",
    " cv.destroyAllWindows()"
   ]
  },
  {
   "cell_type": "markdown",
   "metadata": {},
   "source": [
    "-------------*using edge detection*-------------"
   ]
  },
  {
   "cell_type": "code",
   "execution_count": 17,
   "metadata": {},
   "outputs": [],
   "source": [
    "img=cv.imread(\"./cardboard.jpg\")\n",
    "gray = cv.cvtColor(img,cv.COLOR_BGR2GRAY)"
   ]
  },
  {
   "cell_type": "code",
   "execution_count": 18,
   "metadata": {},
   "outputs": [],
   "source": [
    "# canny\n",
    "edges = cv.Canny(img,100,200)\n",
    "cv.imshow(\"canny\",edges)\n",
    "if cv.waitKey(0) & 0xff == 27:\n",
    " cv.destroyAllWindows()"
   ]
  },
  {
   "cell_type": "markdown",
   "metadata": {},
   "source": [
    "-------------*GrabCut*-------------"
   ]
  },
  {
   "cell_type": "code",
   "execution_count": 26,
   "metadata": {},
   "outputs": [
    {
     "data": {
      "image/png": "[encoded data removed]",
      "text/plain": [
       "<Figure size 640x480 with 1 Axes>"
      ]
     },
     "metadata": {},
     "output_type": "display_data"
    }
   ],
   "source": [
    "# Grabcut\n",
    "cv.namedWindow('Select ROI', cv.WINDOW_NORMAL | cv.WINDOW_KEEPRATIO | cv.WINDOW_GUI_EXPANDED) #to enable resizable window\n",
    "\n",
    "cv.destroyWindow('Select ROI')\n",
    "\n",
    "r = cv.selectROI(\"select the area\", img)  #top left + bottom right coordiantes\n",
    "  \n",
    "\n",
    "mask = np.zeros(img.shape[:2], np.uint8)\n",
    "background = np.zeros((1,65), np.float64)\n",
    "foreground = np.zeros((1,65), np.float64)\n",
    "\n",
    "# Run GrabCut to segment the object\n",
    "cv.grabCut(img, mask, r, background, foreground, 5, cv.GC_INIT_WITH_RECT)\n",
    "\n",
    "# Create a mask with the foreground pixels (1) and probable foreground pixels (3)\n",
    "mask2 = np.where((mask==1) + (mask==3), 255, 0).astype('uint8')\n",
    "result=cv.bitwise_and(img,img,mask=mask2)\n",
    "plt.imshow(result)\n",
    "cv.waitKey(0)\n",
    "cv.destroyAllWindows()"
   ]
  }
 ],
 "metadata": {
  "kernelspec": {
   "display_name": "base",
   "language": "python",
   "name": "python3"
  },
  "language_info": {
   "codemirror_mode": {
    "name": "ipython",
    "version": 3
   },
   "file_extension": ".py",
   "mimetype": "text/x-python",
   "name": "python",
   "nbconvert_exporter": "python",
   "pygments_lexer": "ipython3",
   "version": "3.11.4"
  },
  "orig_nbformat": 4
 },
 "nbformat": 4,
 "nbformat_minor": 2
}
